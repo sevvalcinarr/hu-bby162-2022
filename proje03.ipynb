{
  "nbformat": 4,
  "nbformat_minor": 0,
  "metadata": {
    "colab": {
      "name": "proje03.ipynb",
      "provenance": [],
      "authorship_tag": "ABX9TyNHeGpepqIQ0m6P2IAmRHsg",
      "include_colab_link": true
    },
    "kernelspec": {
      "name": "python3",
      "display_name": "Python 3"
    },
    "language_info": {
      "name": "python"
    }
  },
  "cells": [
    {
      "cell_type": "markdown",
      "metadata": {
        "id": "view-in-github",
        "colab_type": "text"
      },
      "source": [
        "<a href=\"https://colab.research.google.com/github/sevvalcinarr/hu-bby162-2022/blob/main/proje03.ipynb\" target=\"_parent\"><img src=\"https://colab.research.google.com/assets/colab-badge.svg\" alt=\"Open In Colab\"/></a>"
      ]
    },
    {
      "cell_type": "code",
      "execution_count": null,
      "metadata": {
        "id": "PTkrkDkHOQsR"
      },
      "outputs": [],
      "source": [
        "import timeit\n",
        "\n",
        "sorular = []\n",
        "cevaplar = []\n",
        "soru_bilgisi = []\n",
        "alfabe = [\"A\", \"B\", \"C\", \"D\", \"E\", \"F\", \"G\", \"H\"]\n",
        "\n",
        "verilen_cevaplar = []\n",
        "verilen_cevap_bilgisi = [0, 0]\n",
        "verilen_cevap_indeksi = -1000\n",
        "sinav_notu = 0.0\n",
        "tekrar_girilecek_mi = 1\n",
        "\n",
        "cevap_indeksi = 0\n",
        "artirilacak_cevap_sayisi = 0\n",
        "\n",
        "def soru_ekle(soru, cevaplari, dogrucevap):\n",
        "    if len(cevaplari) > 8:\n",
        "        print(\"Maksimum 8 cevap!\")\n",
        "    else:\n",
        "        sorular.append(soru)\n",
        "        for i in range(0, len(cevaplari)):\n",
        "            cevaplar.append(cevaplari[i])\n",
        "        soru_bilgisi.append([len(cevaplari), dogrucevap])\n",
        "\n",
        "soru_ekle(\"kana rengini veren madde?\", [\"vişne suyu\", \"hemoglobin\"], 2)\n",
        "soru_ekle(\"2003 yılında Eurovision şarkı yarışmasında ülkemizi temsil eden ve yarışmada birinci gelen sanatçımız kimdir?\", [\"Athena\", \"Sertap Erener\", \"Şebnem Paker\", \"Ajda Pekkan\"], 2)\n",
        "soru_ekle(\"kediler mi köpekler mi?\", [\"kediler\", \"köpekler\", \"balıklar\", \"SULTAN PAPAĞANLARI\", \"başka\"], 4)\n",
        "soru_ekle(\"İlk çağ uygarlıklarından hangisi yazıyı icat etmiştir?\", [\"Hititler\", \"Elamlar\", \"Sümerler\", \"Urartular\"], 3)\n",
        "soru_ekle(\"Mustafa Kemal Atatürk’ün nüfusa kayıtlı Olduğu il nedir?\", [\"Ankara\", \"İstanbul\", \"Bursa\", \"Gaziantep\"], 4)\n",
        "while(tekrar_girilecek_mi == 1):\n",
        "    verilen_cevaplar = []\n",
        "    verilen_cevap_bilgisi = [0, 0]\n",
        "    verilen_cevap_indeksi = -1000\n",
        "    sinav_notu = 0.0\n",
        "    tekrar_girilecek_mi = 2\n",
        "    cevap_indeksi = 0\n",
        "    artirilacak_cevap_sayisi = 0\n",
        "\n",
        "    print(\"Sınav başlıyor. Cevaplarınızı tek büyük harf karakter olarak giriniz. (A, B gibi.)\")\n",
        "    print(\"Her soruya 10 saniye hakkınız var.\")\n",
        "    for i in range(0, len(sorular)):\n",
        "        artirilacak_cevap_sayisi = 0\n",
        "        print(i + 1, \". soru: \", sorular[i])\n",
        "        for j in range(0, soru_bilgisi[i][0]):\n",
        "            print(alfabe[j] + \")\", cevaplar[cevap_indeksi + j])\n",
        "            artirilacak_cevap_sayisi += 1\n",
        "        basla = timeit.default_timer()\n",
        "        verilen_cevaplar.append(input(\"Cevabınız? : \"))\n",
        "        bitir = timeit.default_timer()\n",
        "        if (bitir - basla) < 10.0:\n",
        "            for k in range(0, soru_bilgisi[i][0]):\n",
        "                if alfabe[k] == verilen_cevaplar[i]:\n",
        "                    verilen_cevap_indeksi = k + 1\n",
        "                    break\n",
        "            if verilen_cevap_indeksi == soru_bilgisi[i][1]:\n",
        "                verilen_cevap_bilgisi[0] = verilen_cevap_bilgisi[0] + 1\n",
        "            else:\n",
        "                verilen_cevap_bilgisi[1] = verilen_cevap_bilgisi[1] + 1\n",
        "            verilen_cevap_indeksi = -1000\n",
        "            cevap_indeksi += artirilacak_cevap_sayisi\n",
        "        else:\n",
        "            cevap_indeksi += soru_bilgisi[i][0]\n",
        "            print(\"Cevap vermeniz 10 saniyeden uzun sürdüğü için cevabınız yanlış sayıldı.\")\n",
        "            verilen_cevaplar[i] = \"X\"\n",
        "            verilen_cevap_bilgisi[1] = verilen_cevap_bilgisi[1] + 1\n",
        "\n",
        "    print(\"Sınavı bitirdiniz.\")\n",
        "    print(str(len(sorular)), \"sorudan\", verilen_cevap_bilgisi[0], \"doğru,\", verilen_cevap_bilgisi[1], \"yanlış cevabınız var.\")\n",
        "    sinav_notu = verilen_cevap_bilgisi[0] / (verilen_cevap_bilgisi[0] + verilen_cevap_bilgisi[1]) * 100\n",
        "    print(\"100.0 üzerinden\", \"%.1f\" % sinav_notu, \"aldınız.\")\n",
        "    if sinav_notu > 60.0:\n",
        "        print(\"Sınavı başarıyla bitirdiniz. Tebrikler!\")\n",
        "        tekrar_girilecek_mi = 2\n",
        "    else:\n",
        "        print(\"Sınavda başarısız oldunuz. Tekrar denemek ister misiniz? (1, 2)\")\n",
        "        print(\"[1] Evet!\")\n",
        "        print(\"[2] Hayır...\")\n",
        "        tekrar_girilecek_mi = int(input(\"Sayı olarak cevabım: \"))     "
      ]
    }
  ]
}