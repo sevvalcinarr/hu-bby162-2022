{
  "nbformat": 4,
  "nbformat_minor": 0,
  "metadata": {
    "colab": {
      "name": "proje01.ipynb",
      "provenance": [],
      "authorship_tag": "ABX9TyNsLkWd5ExLvknXLfU/9+5j",
      "include_colab_link": true
    },
    "kernelspec": {
      "name": "python3",
      "display_name": "Python 3"
    },
    "language_info": {
      "name": "python"
    }
  },
  "cells": [
    {
      "cell_type": "markdown",
      "metadata": {
        "id": "view-in-github",
        "colab_type": "text"
      },
      "source": [
        "<a href=\"https://colab.research.google.com/github/sevvalcinarr/hu-bby162-2022/blob/main/proje01.ipynb\" target=\"_parent\"><img src=\"https://colab.research.google.com/assets/colab-badge.svg\" alt=\"Open In Colab\"/></a>"
      ]
    },
    {
      "cell_type": "code",
      "execution_count": null,
      "metadata": {
        "id": "-nlyOemXL9g3"
      },
      "outputs": [],
      "source": [
        "liste = [\"tavşan\", \"marul\", \"leopar\", \"salam\", \"demir\", \"tahta\"]\n",
        "giris_dogrumu = False\n",
        "try:\n",
        "    secim = int(input(\"İndeks numarasını giriniz: \"))\n",
        "    giris_dogrumu = True\n",
        "except ValueError:\n",
        "    print(\"Tam sayı girilmedi..!\")\n",
        "if giris_dogrumu:\n",
        "\n",
        "    listeToplam = len(liste)\n",
        "    if secim < listeToplam:\n",
        "        print(liste[secim])\n",
        "    else:\n",
        "        print(\"İndeks dışı giriş..!\")"
      ]
    }
  ]
}