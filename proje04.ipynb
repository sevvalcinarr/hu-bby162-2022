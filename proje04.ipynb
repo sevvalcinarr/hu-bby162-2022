{
  "nbformat": 4,
  "nbformat_minor": 0,
  "metadata": {
    "colab": {
      "name": "proje04.ipynb",
      "provenance": [],
      "collapsed_sections": [],
      "mount_file_id": "1eggLRfwVrKBKqPd2ZNCsRnjHJHBTcT4N",
      "authorship_tag": "ABX9TyNZpCixNGESCczLkJhODxAl",
      "include_colab_link": true
    },
    "kernelspec": {
      "name": "python3",
      "display_name": "Python 3"
    },
    "language_info": {
      "name": "python"
    }
  },
  "cells": [
    {
      "cell_type": "markdown",
      "metadata": {
        "id": "view-in-github",
        "colab_type": "text"
      },
      "source": [
        "<a href=\"https://colab.research.google.com/github/sevvalcinarr/hu-bby162-2022/blob/main/proje04.ipynb\" target=\"_parent\"><img src=\"https://colab.research.google.com/assets/colab-badge.svg\" alt=\"Open In Colab\"/></a>"
      ]
    },
    {
      "cell_type": "code",
      "execution_count": null,
      "metadata": {
        "id": "glWRnfjzjinV"
      },
      "outputs": [],
      "source": [
        "secim = \"\"\n",
        "dosyaYolu = \"/content/drive/MyDrive/Colab Notebooks/veritabani.txt\"\n",
        "while (True):\n",
        "    print(\"Kütüphane kataloğuna hoşgeldiniz.\")\n",
        "    print(\"Yapılabilecek işlemler:\")\n",
        "    print(\"[1] Kayıtları listele\")\n",
        "    print(\"[2] Yeni kayıt ekle\")\n",
        "    print(\"[3] Kayıt Ara\")\n",
        "    print(\"[4] Çıkış\")\n",
        "    secim = input(\"Lütfen bir işlem seçin [1/2/3/4]: \")\n",
        "    if (secim == \"1\"):\n",
        "        print(\"Kayıtları listelemeyi seçtiniz.\")\n",
        "        dosya = open(dosyaYolu, \"r\")\n",
        "        koleksiyon = []\n",
        "        for kitap in dosya.readlines():\n",
        "            koleksiyon.append(kitap)\n",
        "        dosya.close()\n",
        "        for kitap in koleksiyon:\n",
        "            print(kitap)\n",
        "        \n",
        "    elif (secim == \"2\"):\n",
        "        print(\"Yeni kayıt eklemeyi seçtiniz.\")\n",
        "        eklenecekKitapAdi = input(\"Kitabın adı: \")\n",
        "        eklenecekKitapYazari = input(\"Kitabın yazarı: \")\n",
        "        eklenecekKitapKitabevi = input(\"Kitabın kitabevi: \")\n",
        "        eklenecekKitapTarihi = input(\"Kitabın basım tarihi: \")\n",
        "        dosya = open(dosyaYolu, \"a\")\n",
        "        dosya.write(eklenecekKitapAdi)\n",
        "        dosya.write('|')\n",
        "        dosya.write(eklenecekKitapYazari)\n",
        "        dosya.write('|')\n",
        "        dosya.write(eklenecekKitapKitabevi)\n",
        "        dosya.write('|')\n",
        "        dosya.write(eklenecekKitapTarihi)\n",
        "        dosya.write('\\n')\n",
        "        dosya.close()\n",
        "        print(\"Yeni kayıt başarıyla eklendi. Menüye gönderiliyorsunuz.\")\n",
        "        \n",
        "    elif (secim == \"3\"):\n",
        "        print(\"Kayıt aramayı seçtiniz.\")\n",
        "        arama = input(\"Arama girdinizi yazınız: \")\n",
        "        dosya = open(dosyaYolu, \"r\")\n",
        "        for kitap in dosya.readlines():\n",
        "            if (arama in kitap):\n",
        "                print(kitap)\n",
        "    elif (secim == \"4\"):\n",
        "        print(\"Çıkış yapmayı seçtiniz.\")\n",
        "        break\n",
        "    else:\n",
        "        print(\"Geçersiz seçim yaptınız.\")"
      ]
    }
  ]
}